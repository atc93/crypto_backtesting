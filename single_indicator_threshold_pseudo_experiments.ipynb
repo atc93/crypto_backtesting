{
 "cells": [
  {
   "cell_type": "markdown",
   "metadata": {},
   "source": [
    "# SINGLE INDICATOR THRESHOLD BACKTESTING PSEUDO-EXPERIMENTS"
   ]
  },
  {
   "cell_type": "markdown",
   "metadata": {},
   "source": [
    "## code performs backtesting using a single indicator with a threshold crossing strategy:\n",
    "\n",
    "* if indicator crosses below or above buy_threshold -> buy\n",
    "* if indicator crosses above or below sell_threshold -> sell\n",
    "\n",
    "All the money available is used for each and every trade starting with $100: money from first trade is injected in full into the second trade etc...\n",
    "\n",
    "This iteration of the code does not allow to loop over different currencies, or indicators, or timeframes, or indicator timeperiods. Pseudo-experiments are CPU time consumming by nature, therefore focusing on one configuration at a time is recommended. Currently, only TA-lib indicators using one candle information (e.g. 'close' only) are allowed.\n",
    "\n",
    "Data can be obtained from various CEX via their respective APIs using the CCXT Python module.\n",
    "\n",
    "There should be data avaible prior to trade start datetime in order for the first trade data point to have meaningful indicator calculation (since indicator requires past data). This is why the code here and there does a 2-day backward time shift.\n",
    "\n",
    "Data's datetime is the default UTC-0 timezone (France is UTC+1 and NA east cost is UTC-5)."
   ]
  },
  {
   "cell_type": "markdown",
   "metadata": {},
   "source": [
    "## Various module imports"
   ]
  },
  {
   "cell_type": "code",
   "execution_count": 1,
   "metadata": {},
   "outputs": [],
   "source": [
    "import itertools\n",
    "import os\n",
    "import time\n",
    "import warnings\n",
    "\n",
    "from datetime import datetime, timedelta\n",
    "from random import randrange\n",
    "\n",
    "import numpy as np\n",
    "import pandas as pd\n",
    "import talib as ta\n",
    "\n",
    "from qtpylib.indicators import crossed\n",
    "from tqdm import tqdm\n",
    "\n",
    "from market import CryptoMarket\n",
    "\n",
    "warnings.filterwarnings('ignore')\n",
    "\n",
    "pd.set_option('display.max_columns', 5000)\n",
    "pd.set_option('display.max_rows', 5000)\n",
    "pd.set_option('display.width', 10000)"
   ]
  },
  {
   "cell_type": "markdown",
   "metadata": {},
   "source": [
    "## Moving to directory containing both data and output folders named respectively: 'data' and 'backtesting_output'"
   ]
  },
  {
   "cell_type": "code",
   "execution_count": 2,
   "metadata": {},
   "outputs": [
    {
     "name": "stdout",
     "output_type": "stream",
     "text": [
      "D:\\crypto\n"
     ]
    }
   ],
   "source": [
    "cd D:\\crypto\\"
   ]
  },
  {
   "cell_type": "code",
   "execution_count": 3,
   "metadata": {},
   "outputs": [
    {
     "data": {
      "text/plain": [
       "['backtesting_output', 'data']"
      ]
     },
     "execution_count": 3,
     "metadata": {},
     "output_type": "execute_result"
    }
   ],
   "source": [
    "os.listdir('.')"
   ]
  },
  {
   "cell_type": "markdown",
   "metadata": {},
   "source": [
    "## Various backtesting configurations"
   ]
  },
  {
   "cell_type": "code",
   "execution_count": 4,
   "metadata": {},
   "outputs": [],
   "source": [
    "# CEX, CURRENCY, FEES, INITIAL TRADING AMOUNT, TIMEFRAME\n",
    "exchange = 'binance'  # see https://github.com/ccxt/ccxt for available exchanges\n",
    "trading_pair = 'LINK-USDT'  # see specific exchange (e.g. https://www.binance.com/en/markets) for trading pairs\n",
    "buy_fee = 0.1  # in percent\n",
    "sell_fee = 0.1  # in percent\n",
    "initial_cash = 100  # DO NOT CHANGE or hell will break loose\n",
    "verbose = 0  # print-out verbosity: 0, 1, 2, 3\n",
    "timeframe = 5  # timeframe in minute of one candle\n",
    "\n",
    "# INDICATOR\n",
    "indicator = 'RSI'  # see TA-lib documentation: https://mrjbq7.github.io/ta-lib/\n",
    "ind_timeperiod = 28  # number of 'timeframe' periods used to compute the indicator\n",
    "ind_candle = 'close'  # what to use of candle for indicator: open, high low or close\n",
    "\n",
    "ind_buy_min = 26  # scan lower buy limit\n",
    "ind_buy_max = 31  # scan upper buy limit\n",
    "ind_buy_cross = 'below'  # options are cross 'above' or 'below' the set buy threshold\n",
    "\n",
    "ind_sell_min = 42  # scan lower sell limit\n",
    "ind_sell_max = 51  # scan upper buy limit\n",
    "ind_sell_cross = 'above'  # options are cross 'above' or 'below' the set sell threshold\n",
    "\n",
    "ind_step_size = 1  # scan step size commong to both buy/sell \n",
    "\n",
    "\n",
    "# OUTPUT CSV FILE\n",
    "csv_output_name = exchange + '_' + trading_pair + '_' + indicator + ind_candle +str(ind_timeperiod) + '_' + str(timeframe) + 'min' + \\\n",
    "                    '_bx-' + ind_buy_cross + '_' + str(ind_buy_min) + '-' + str(ind_buy_max) + \\\n",
    "                    '_sx-' + ind_sell_cross + '_' + str(ind_sell_min) + '-' + str(ind_sell_max) + \\\n",
    "                    '_step' + str(ind_step_size) + '.csv'\n",
    "\n",
    "\n",
    "# PSEUDO-EXPERIMENT\n",
    "n_ensemble = 100  # number of pseudo-experiments to run\n",
    "run_pseudo_experiment = True  # if False, use all the data minus first 2 days, not a random subset\n",
    "datetime_scan = 'uniform'  # 'uniform' to uniformly sample datetime space, 'more_recent' to sample more recent datetimes\n",
    "\n",
    "\n",
    "# DATA FETCHING\n",
    "data_first_datetime = datetime(2019, 7, 1, 0, 0, 0)  # start fetching data from this date (oldest date is exchange dependent)\n",
    "data_last_datetime = 'now'  # fetch data until data\n",
    "\n",
    "\n",
    "# TRADE START AND END DATETME, MINIMUM TRADING DAYS\n",
    "trade_start_datetime = data_first_datetime + timedelta(days=2)  # by default start with earliest available data with 2 days shift\n",
    "trade_end_datetime = datetime.utcnow()  # UTC-0 (Iceland) is the time zone of the data\n",
    "minimum_nday_trade = 15  # minimum number of days to trade\n",
    "nday_trade = trade_end_datetime-trade_start_datetime\n",
    "nday_trade = nday_trade.days + nday_trade.seconds/3600/24"
   ]
  },
  {
   "cell_type": "markdown",
   "metadata": {},
   "source": [
    "# Fetch market data"
   ]
  },
  {
   "cell_type": "code",
   "execution_count": 5,
   "metadata": {
    "scrolled": true
   },
   "outputs": [
    {
     "name": "stdout",
     "output_type": "stream",
     "text": [
      "File already exists. Fetching 0 day(s) 3 minute(s) of missing data since last download\n",
      "2020-12-12 23:01:00 2020-12-12 23:05:00\n"
     ]
    }
   ],
   "source": [
    "def fetch_data(curr_p, exc, start_date, end_date):\n",
    "  \n",
    "    market_history = CryptoMarket(curr_p, exc)\n",
    "    market_history.get_currency_candle_history(start_date, end_date)\n",
    "    \n",
    "fetch_data(trading_pair, exchange, data_first_datetime, data_last_datetime)    "
   ]
  },
  {
   "cell_type": "markdown",
   "metadata": {},
   "source": [
    "# Trading function"
   ]
  },
  {
   "cell_type": "code",
   "execution_count": 6,
   "metadata": {
    "scrolled": true
   },
   "outputs": [],
   "source": [
    "def trade(df, start_date, stop_date, ind_pair_iterator, n_day):\n",
    "\n",
    "        df_tmp = pd.DataFrame()\n",
    "        \n",
    "        for ind_pair in tqdm (list(ind_pair_iterator), desc=\"Looping over indicator pairs...\"): \n",
    "                        \n",
    "            cash = initial_cash\n",
    "                \n",
    "            ind_buy_th = ind_pair[0]\n",
    "            ind_sell_th = ind_pair[1]\n",
    "            \n",
    "            if ind_buy_th >= ind_sell_th: # do not allow buy threshold > sell threshold\n",
    "                continue\n",
    "                        \n",
    "            def trigger(df_copy, indicator):\n",
    "                df_copy['trigger'] = np.empty(len(df)) * 0\n",
    "                df_copy.loc[\n",
    "                    (\n",
    "                        (df_copy[f'{indicator}'].crossed(float(ind_buy_th), ind_buy_cross))\n",
    "                        & (df_copy.index > start_date)\n",
    "                    ),\n",
    "                    'trigger'] = 1  \n",
    "                    \n",
    "                df_copy.loc[\n",
    "                    (\n",
    "                        (df_copy[f'{indicator}'].crossed(float(ind_sell_th), ind_sell_cross))\n",
    "                    ),\n",
    "                    'trigger'] = -1  \n",
    "\n",
    "                df_copy = df_copy.loc[df_copy['trigger'] != 0]\n",
    "\n",
    "                df_copy = df_copy.loc[df_copy['trigger'].shift() != df_copy['trigger']]\n",
    "                 \n",
    "                return df_copy\n",
    "            \n",
    "            df_copy = trigger(df.copy(), indicator)\n",
    "            df_copy.dropna(inplace=True) \n",
    "           \n",
    "            if verbose > 2:\n",
    "                print(df_copy.head(10))            \n",
    "            \n",
    "            coin = 0            \n",
    "            cash_list = []\n",
    "            profit_list = []\n",
    "            max_price_drop = []\n",
    "            delta_t = []\n",
    "            buy_price = 0\n",
    "            tot_volume = 0\n",
    "            n_trans = 0\n",
    "            left_unsold = 0\n",
    "            sell_date = datetime(2000, 1, 1, 0, 0, 0)\n",
    "\n",
    "            bought = False\n",
    "            sold = False    \n",
    "                        \n",
    "            for idx, row in df_copy.iterrows():\n",
    "\n",
    "                if row['trigger'] == 1 and not bought and not sold:\n",
    "                    buy_price = row['close']\n",
    "                    buy_date = idx\n",
    "                    coin = (1-buy_fee/100)*cash/buy_price\n",
    "                    tot_volume += cash                     \n",
    "                    bought = True\n",
    "                    if verbose > 3 :\n",
    "                        print('cash', round(cash,2), idx, 'buy price', row['close'], 'ind:', row[indicator])\n",
    "                    cash = 0\n",
    "                    continue\n",
    "                elif  bought and not sold and row['trigger'] == -1:                    \n",
    "                    sell_price = row['close']\n",
    "                    cash = sell_price*(1-sell_fee/100)*coin\n",
    "                    tot_volume += cash\n",
    "                    coin = 0\n",
    "                    sold = True\n",
    "                    sell_date = idx\n",
    "                    max_price_drop.append((df.loc[(df.index>buy_date) & (df.index<sell_date)]['close'].min()-buy_price)/buy_price*100)    \n",
    "                    if verbose > 3:\n",
    "                        print('cash', round(cash,2), idx, 'sell price', sell_price, 'ind:', row[indicator])\n",
    "                        \n",
    "                if bought and sold:\n",
    "                    profit_list.append((sell_price-buy_price)/buy_price*100)\n",
    "                    bought = False\n",
    "                    sold = False\n",
    "                    n_trans += 1\n",
    "                    dtime = sell_date-buy_date\n",
    "                    minutes = dtime.seconds/60+dtime.days*(24*60)\n",
    "                    delta_t.append(minutes)\n",
    "                    \n",
    "            if bought and not sold:\n",
    "                n_trans += 1\n",
    "                cash = (1-sell_fee/100)*coin*df['close'].iloc[-1]\n",
    "                dtime = df.index[-1]-buy_date\n",
    "                sell_date = df.index[-1]\n",
    "                minutes = dtime.seconds/60+dtime.days/(24*60)\n",
    "                delta_t.append(minutes)\n",
    "                left_unsold = 1\n",
    "                profit_list.append((df['close'].iloc[-1]-buy_price)/buy_price*100)\n",
    "                if verbose > 3:\n",
    "                    print('unsold', sell_date, 'sell price', df['close'].iloc[-1])                \n",
    "                                     \n",
    "            try:\n",
    "                new_row = {\n",
    "                    'trading_pair': trading_pair, \n",
    "                    'timeframe': timeframe,\n",
    "                    'ind_timeperiod': ind_timeperiod,\n",
    "                    'indicator': indicator,\n",
    "                    'ind_buy':ind_buy_th, \n",
    "                    'ind_sell':ind_sell_th,  \n",
    "                    'ttime_mean': np.mean(np.array(delta_t))/60,  # from minute to hour\n",
    "                    'ttime_max': np.max(np.array(delta_t))/60,  # from minute to hour\n",
    "                    'ttime_min': np.min(np.array(delta_t))/60,  # from minute to hour\n",
    "                    'ttime_std': np.std(np.array(delta_t))/60,  # from minute to hour\n",
    "                    'tot_volume':tot_volume,                    \n",
    "                    'profit_per_day':(cash-initial_cash)/initial_cash*100/n_day,  # in percent per day\n",
    "                    'profit_ind_mean': np.mean(np.array(profit_list)),                                        \n",
    "                    'profit_ind_max': np.max(np.array(profit_list)),                          \n",
    "                    'profit_ind_min': np.min(np.array(profit_list)),\n",
    "                    'profit_ind_std': np.std(np.array(profit_list)),                    \n",
    "                    'cash_final':cash,                            \n",
    "                    'n_trans': n_trans,\n",
    "                    'max_price_drop': np.min(np.array(max_price_drop)),\n",
    "                    'n_trans_per_day': n_trans/n_day,                  \n",
    "                    'start_date': start_date,\n",
    "                    'stop_date': stop_date,\n",
    "                    'n_day': n_day,\n",
    "                    'left_unsold': left_unsold\n",
    "                    \n",
    "                }\n",
    "                if verbose > 1:\n",
    "                    print(profit_list)\n",
    "                df_tmp = df_tmp.append(new_row, ignore_index=True)\n",
    "            except Exception as exc:\n",
    "                if verbose > 0:\n",
    "                    print(\"Exception occured:\", exc.args[0])\n",
    "                continue\n",
    "                           \n",
    "\n",
    "        return df_tmp"
   ]
  },
  {
   "cell_type": "markdown",
   "metadata": {},
   "source": [
    "# Pseudo-experiments loop"
   ]
  },
  {
   "cell_type": "code",
   "execution_count": 7,
   "metadata": {
    "scrolled": true
   },
   "outputs": [
    {
     "name": "stdout",
     "output_type": "stream",
     "text": [
      "Ens: 1 , start date: 2019-11-27 06:49:40 , end date: 2020-07-04 09:45:21\n"
     ]
    },
    {
     "name": "stderr",
     "output_type": "stream",
     "text": [
      "Looping over indicator pairs...: 100%|█████████████████████████████████████████████████| 45/45 [00:02<00:00, 17.68it/s]\n"
     ]
    },
    {
     "name": "stdout",
     "output_type": "stream",
     "text": [
      "Ens: 2 , start date: 2019-10-07 21:37:10 , end date: 2020-08-15 02:42:35\n"
     ]
    },
    {
     "name": "stderr",
     "output_type": "stream",
     "text": [
      "Looping over indicator pairs...: 100%|█████████████████████████████████████████████████| 45/45 [00:03<00:00, 12.70it/s]\n"
     ]
    },
    {
     "name": "stdout",
     "output_type": "stream",
     "text": [
      "Ens: 3 , start date: 2020-02-14 04:36:44 , end date: 2020-03-01 03:57:47\n"
     ]
    },
    {
     "name": "stderr",
     "output_type": "stream",
     "text": [
      "Looping over indicator pairs...: 100%|█████████████████████████████████████████████████| 45/45 [00:00<00:00, 70.16it/s]\n"
     ]
    },
    {
     "name": "stdout",
     "output_type": "stream",
     "text": [
      "Ens: 4 , start date: 2020-05-15 06:40:27 , end date: 2020-10-26 22:58:15\n"
     ]
    },
    {
     "name": "stderr",
     "output_type": "stream",
     "text": [
      "Looping over indicator pairs...: 100%|█████████████████████████████████████████████████| 45/45 [00:01<00:00, 23.79it/s]\n"
     ]
    },
    {
     "name": "stdout",
     "output_type": "stream",
     "text": [
      "Ens: 5 , start date: 2019-09-18 23:22:29 , end date: 2020-02-18 02:48:03\n"
     ]
    },
    {
     "name": "stderr",
     "output_type": "stream",
     "text": [
      "Looping over indicator pairs...: 100%|█████████████████████████████████████████████████| 45/45 [00:01<00:00, 24.75it/s]\n"
     ]
    },
    {
     "name": "stdout",
     "output_type": "stream",
     "text": [
      "Ens: 6 , start date: 2019-10-09 22:44:28 , end date: 2020-03-02 21:33:35\n"
     ]
    },
    {
     "name": "stderr",
     "output_type": "stream",
     "text": [
      "Looping over indicator pairs...: 100%|█████████████████████████████████████████████████| 45/45 [00:01<00:00, 24.12it/s]\n"
     ]
    },
    {
     "name": "stdout",
     "output_type": "stream",
     "text": [
      "Ens: 7 , start date: 2019-12-20 02:35:51 , end date: 2020-06-15 15:34:22\n"
     ]
    },
    {
     "name": "stderr",
     "output_type": "stream",
     "text": [
      "Looping over indicator pairs...: 100%|█████████████████████████████████████████████████| 45/45 [00:02<00:00, 22.00it/s]\n"
     ]
    },
    {
     "name": "stdout",
     "output_type": "stream",
     "text": [
      "Ens: 8 , start date: 2019-10-16 14:10:47 , end date: 2019-11-26 00:51:01\n"
     ]
    },
    {
     "name": "stderr",
     "output_type": "stream",
     "text": [
      "Looping over indicator pairs...: 100%|█████████████████████████████████████████████████| 45/45 [00:00<00:00, 50.63it/s]\n"
     ]
    },
    {
     "name": "stdout",
     "output_type": "stream",
     "text": [
      "Ens: 9 , start date: 2019-07-29 19:37:47 , end date: 2020-04-19 18:12:58\n"
     ]
    },
    {
     "name": "stderr",
     "output_type": "stream",
     "text": [
      "Looping over indicator pairs...: 100%|█████████████████████████████████████████████████| 45/45 [00:03<00:00, 14.39it/s]\n"
     ]
    },
    {
     "name": "stdout",
     "output_type": "stream",
     "text": [
      "Ens: 10 , start date: 2020-03-26 11:12:48 , end date: 2020-06-19 12:13:27\n"
     ]
    },
    {
     "name": "stderr",
     "output_type": "stream",
     "text": [
      "Looping over indicator pairs...: 100%|█████████████████████████████████████████████████| 45/45 [00:01<00:00, 40.12it/s]\n"
     ]
    },
    {
     "name": "stdout",
     "output_type": "stream",
     "text": [
      "Ens: 11 , start date: 2019-12-23 07:20:28 , end date: 2020-03-19 05:49:42\n"
     ]
    },
    {
     "name": "stderr",
     "output_type": "stream",
     "text": [
      "Looping over indicator pairs...: 100%|█████████████████████████████████████████████████| 45/45 [00:01<00:00, 35.67it/s]\n"
     ]
    },
    {
     "name": "stdout",
     "output_type": "stream",
     "text": [
      "Ens: 12 , start date: 2020-05-22 02:50:39 , end date: 2020-11-28 03:48:20\n"
     ]
    },
    {
     "name": "stderr",
     "output_type": "stream",
     "text": [
      "Looping over indicator pairs...: 100%|█████████████████████████████████████████████████| 45/45 [00:02<00:00, 21.73it/s]\n"
     ]
    },
    {
     "name": "stdout",
     "output_type": "stream",
     "text": [
      "Ens: 13 , start date: 2019-10-29 11:17:00 , end date: 2020-02-08 10:32:03\n"
     ]
    },
    {
     "name": "stderr",
     "output_type": "stream",
     "text": [
      "Looping over indicator pairs...: 100%|█████████████████████████████████████████████████| 45/45 [00:01<00:00, 30.15it/s]\n"
     ]
    },
    {
     "name": "stdout",
     "output_type": "stream",
     "text": [
      "Ens: 14 , start date: 2020-03-01 06:25:11 , end date: 2020-05-19 13:43:07\n"
     ]
    },
    {
     "name": "stderr",
     "output_type": "stream",
     "text": [
      "Looping over indicator pairs...: 100%|█████████████████████████████████████████████████| 45/45 [00:01<00:00, 39.47it/s]\n"
     ]
    },
    {
     "name": "stdout",
     "output_type": "stream",
     "text": [
      "Ens: 15 , start date: 2019-07-13 11:16:14 , end date: 2019-09-04 19:00:37\n"
     ]
    },
    {
     "name": "stderr",
     "output_type": "stream",
     "text": [
      "Looping over indicator pairs...: 100%|█████████████████████████████████████████████████| 45/45 [00:01<00:00, 44.15it/s]\n"
     ]
    },
    {
     "name": "stdout",
     "output_type": "stream",
     "text": [
      "Ens: 16 , start date: 2020-05-18 19:47:28 , end date: 2020-08-07 16:02:03\n"
     ]
    },
    {
     "name": "stderr",
     "output_type": "stream",
     "text": [
      "Looping over indicator pairs...: 100%|█████████████████████████████████████████████████| 45/45 [00:01<00:00, 41.81it/s]\n"
     ]
    },
    {
     "name": "stdout",
     "output_type": "stream",
     "text": [
      "Ens: 17 , start date: 2019-09-30 12:26:25 , end date: 2020-04-30 18:40:24\n"
     ]
    },
    {
     "name": "stderr",
     "output_type": "stream",
     "text": [
      "Looping over indicator pairs...: 100%|█████████████████████████████████████████████████| 45/45 [00:02<00:00, 17.55it/s]\n"
     ]
    },
    {
     "name": "stdout",
     "output_type": "stream",
     "text": [
      "Ens: 18 , start date: 2019-10-06 00:25:04 , end date: 2020-08-27 05:03:29\n"
     ]
    },
    {
     "name": "stderr",
     "output_type": "stream",
     "text": [
      "Looping over indicator pairs...: 100%|█████████████████████████████████████████████████| 45/45 [00:03<00:00, 12.38it/s]\n"
     ]
    },
    {
     "name": "stdout",
     "output_type": "stream",
     "text": [
      "Ens: 19 , start date: 2019-09-13 01:00:31 , end date: 2020-01-24 17:49:52\n"
     ]
    },
    {
     "name": "stderr",
     "output_type": "stream",
     "text": [
      "Looping over indicator pairs...: 100%|█████████████████████████████████████████████████| 45/45 [00:01<00:00, 25.43it/s]\n"
     ]
    },
    {
     "name": "stdout",
     "output_type": "stream",
     "text": [
      "Ens: 20 , start date: 2019-11-17 13:13:33 , end date: 2020-09-30 13:12:52\n"
     ]
    },
    {
     "name": "stderr",
     "output_type": "stream",
     "text": [
      "Looping over indicator pairs...: 100%|█████████████████████████████████████████████████| 45/45 [00:03<00:00, 11.66it/s]\n"
     ]
    },
    {
     "name": "stdout",
     "output_type": "stream",
     "text": [
      "Ens: 21 , start date: 2020-03-21 03:10:14 , end date: 2020-10-02 11:28:59\n"
     ]
    },
    {
     "name": "stderr",
     "output_type": "stream",
     "text": [
      "Looping over indicator pairs...: 100%|█████████████████████████████████████████████████| 45/45 [00:02<00:00, 20.04it/s]\n"
     ]
    },
    {
     "name": "stdout",
     "output_type": "stream",
     "text": [
      "Ens: 22 , start date: 2019-12-12 17:26:28 , end date: 2020-10-15 21:59:37\n"
     ]
    },
    {
     "name": "stderr",
     "output_type": "stream",
     "text": [
      "Looping over indicator pairs...: 100%|█████████████████████████████████████████████████| 45/45 [00:03<00:00, 12.69it/s]\n"
     ]
    },
    {
     "name": "stdout",
     "output_type": "stream",
     "text": [
      "Ens: 23 , start date: 2019-09-06 12:31:58 , end date: 2020-09-22 08:05:03\n"
     ]
    },
    {
     "name": "stderr",
     "output_type": "stream",
     "text": [
      "Looping over indicator pairs...: 100%|█████████████████████████████████████████████████| 45/45 [00:04<00:00,  9.86it/s]\n"
     ]
    },
    {
     "name": "stdout",
     "output_type": "stream",
     "text": [
      "Ens: 24 , start date: 2019-10-20 19:27:46 , end date: 2020-02-06 21:26:46\n"
     ]
    },
    {
     "name": "stderr",
     "output_type": "stream",
     "text": [
      "Looping over indicator pairs...: 100%|█████████████████████████████████████████████████| 45/45 [00:01<00:00, 28.58it/s]\n"
     ]
    },
    {
     "name": "stdout",
     "output_type": "stream",
     "text": [
      "Ens: 25 , start date: 2020-02-18 05:45:57 , end date: 2020-05-30 05:48:47\n"
     ]
    },
    {
     "name": "stderr",
     "output_type": "stream",
     "text": [
      "Looping over indicator pairs...: 100%|█████████████████████████████████████████████████| 45/45 [00:01<00:00, 32.62it/s]\n"
     ]
    },
    {
     "name": "stdout",
     "output_type": "stream",
     "text": [
      "Ens: 26 , start date: 2019-09-09 14:43:09 , end date: 2020-12-06 17:20:15\n"
     ]
    },
    {
     "name": "stderr",
     "output_type": "stream",
     "text": [
      "Looping over indicator pairs...: 100%|█████████████████████████████████████████████████| 45/45 [00:05<00:00,  8.29it/s]\n"
     ]
    },
    {
     "name": "stdout",
     "output_type": "stream",
     "text": [
      "Ens: 27 , start date: 2019-11-08 07:18:27 , end date: 2020-05-02 00:46:21\n"
     ]
    },
    {
     "name": "stderr",
     "output_type": "stream",
     "text": [
      "Looping over indicator pairs...: 100%|█████████████████████████████████████████████████| 45/45 [00:02<00:00, 19.58it/s]\n"
     ]
    },
    {
     "name": "stdout",
     "output_type": "stream",
     "text": [
      "Ens: 28 , start date: 2020-04-19 07:50:51 , end date: 2020-05-12 01:14:59\n"
     ]
    },
    {
     "name": "stderr",
     "output_type": "stream",
     "text": [
      "Looping over indicator pairs...: 100%|█████████████████████████████████████████████████| 45/45 [00:00<00:00, 61.81it/s]\n"
     ]
    },
    {
     "name": "stdout",
     "output_type": "stream",
     "text": [
      "Ens: 29 , start date: 2020-03-27 23:41:50 , end date: 2020-07-05 13:47:03\n"
     ]
    },
    {
     "name": "stderr",
     "output_type": "stream",
     "text": [
      "Looping over indicator pairs...: 100%|█████████████████████████████████████████████████| 45/45 [00:01<00:00, 38.11it/s]\n"
     ]
    },
    {
     "name": "stdout",
     "output_type": "stream",
     "text": [
      "Ens: 30 , start date: 2020-01-22 08:07:54 , end date: 2020-09-20 15:40:59\n"
     ]
    },
    {
     "name": "stderr",
     "output_type": "stream",
     "text": [
      "Looping over indicator pairs...: 100%|█████████████████████████████████████████████████| 45/45 [00:02<00:00, 16.78it/s]\n"
     ]
    },
    {
     "name": "stdout",
     "output_type": "stream",
     "text": [
      "Ens: 31 , start date: 2020-03-26 22:57:57 , end date: 2020-09-19 19:36:51\n"
     ]
    },
    {
     "name": "stderr",
     "output_type": "stream",
     "text": [
      "Looping over indicator pairs...: 100%|█████████████████████████████████████████████████| 45/45 [00:01<00:00, 22.65it/s]\n"
     ]
    },
    {
     "name": "stdout",
     "output_type": "stream",
     "text": [
      "Ens: 32 , start date: 2019-08-19 14:49:17 , end date: 2020-02-16 06:52:26\n"
     ]
    },
    {
     "name": "stderr",
     "output_type": "stream",
     "text": [
      "Looping over indicator pairs...: 100%|█████████████████████████████████████████████████| 45/45 [00:02<00:00, 20.04it/s]\n"
     ]
    },
    {
     "name": "stdout",
     "output_type": "stream",
     "text": [
      "Ens: 33 , start date: 2019-10-23 08:02:43 , end date: 2020-06-21 01:58:05\n"
     ]
    },
    {
     "name": "stderr",
     "output_type": "stream",
     "text": [
      "Looping over indicator pairs...: 100%|█████████████████████████████████████████████████| 45/45 [00:02<00:00, 15.55it/s]\n"
     ]
    },
    {
     "name": "stdout",
     "output_type": "stream",
     "text": [
      "Ens: 34 , start date: 2020-01-13 19:48:58 , end date: 2020-11-28 08:04:36\n"
     ]
    },
    {
     "name": "stderr",
     "output_type": "stream",
     "text": [
      "Looping over indicator pairs...: 100%|█████████████████████████████████████████████████| 45/45 [00:03<00:00, 12.57it/s]\n"
     ]
    },
    {
     "name": "stdout",
     "output_type": "stream",
     "text": [
      "Ens: 35 , start date: 2019-07-06 17:53:19 , end date: 2020-05-20 00:14:06\n"
     ]
    },
    {
     "name": "stderr",
     "output_type": "stream",
     "text": [
      "Looping over indicator pairs...: 100%|█████████████████████████████████████████████████| 45/45 [00:03<00:00, 11.79it/s]\n"
     ]
    },
    {
     "name": "stdout",
     "output_type": "stream",
     "text": [
      "Ens: 36 , start date: 2019-09-13 02:20:06 , end date: 2020-07-23 09:06:19\n"
     ]
    },
    {
     "name": "stderr",
     "output_type": "stream",
     "text": [
      "Looping over indicator pairs...: 100%|█████████████████████████████████████████████████| 45/45 [00:03<00:00, 12.52it/s]\n"
     ]
    },
    {
     "name": "stdout",
     "output_type": "stream",
     "text": [
      "Ens: 37 , start date: 2020-06-26 08:51:23 , end date: 2020-08-08 22:48:53\n"
     ]
    },
    {
     "name": "stderr",
     "output_type": "stream",
     "text": [
      "Looping over indicator pairs...: 100%|█████████████████████████████████████████████████| 45/45 [00:00<00:00, 55.84it/s]\n"
     ]
    },
    {
     "name": "stdout",
     "output_type": "stream",
     "text": [
      "Ens: 38 , start date: 2020-03-13 22:22:48 , end date: 2020-07-10 15:48:30\n"
     ]
    },
    {
     "name": "stderr",
     "output_type": "stream",
     "text": [
      "Looping over indicator pairs...: 100%|█████████████████████████████████████████████████| 45/45 [00:01<00:00, 32.93it/s]\n"
     ]
    },
    {
     "name": "stdout",
     "output_type": "stream",
     "text": [
      "Ens: 39 , start date: 2020-03-19 15:36:41 , end date: 2020-11-26 02:59:39\n"
     ]
    },
    {
     "name": "stderr",
     "output_type": "stream",
     "text": [
      "Looping over indicator pairs...: 100%|█████████████████████████████████████████████████| 45/45 [00:02<00:00, 16.76it/s]\n"
     ]
    },
    {
     "name": "stdout",
     "output_type": "stream",
     "text": [
      "Ens: 40 , start date: 2019-10-30 10:08:18 , end date: 2019-11-15 06:18:16\n"
     ]
    },
    {
     "name": "stderr",
     "output_type": "stream",
     "text": [
      "Looping over indicator pairs...: 100%|████████████████████████████████████████████████| 45/45 [00:00<00:00, 112.23it/s]\n"
     ]
    },
    {
     "name": "stdout",
     "output_type": "stream",
     "text": [
      "Ens: 41 , start date: 2020-05-19 19:33:42 , end date: 2020-11-19 01:12:49\n"
     ]
    },
    {
     "name": "stderr",
     "output_type": "stream",
     "text": [
      "Looping over indicator pairs...: 100%|█████████████████████████████████████████████████| 45/45 [00:02<00:00, 21.43it/s]\n"
     ]
    },
    {
     "name": "stdout",
     "output_type": "stream",
     "text": [
      "Ens: 42 , start date: 2019-10-20 19:57:08 , end date: 2020-02-16 08:49:31\n"
     ]
    },
    {
     "name": "stderr",
     "output_type": "stream",
     "text": [
      "Looping over indicator pairs...: 100%|█████████████████████████████████████████████████| 45/45 [00:01<00:00, 27.84it/s]\n"
     ]
    },
    {
     "name": "stdout",
     "output_type": "stream",
     "text": [
      "Ens: 43 , start date: 2019-07-12 16:42:50 , end date: 2019-10-27 10:20:26\n"
     ]
    },
    {
     "name": "stderr",
     "output_type": "stream",
     "text": [
      "Looping over indicator pairs...: 100%|█████████████████████████████████████████████████| 45/45 [00:01<00:00, 31.29it/s]\n"
     ]
    },
    {
     "name": "stdout",
     "output_type": "stream",
     "text": [
      "Ens: 44 , start date: 2020-04-13 23:34:07 , end date: 2020-10-12 22:03:21\n"
     ]
    },
    {
     "name": "stderr",
     "output_type": "stream",
     "text": [
      "Looping over indicator pairs...: 100%|█████████████████████████████████████████████████| 45/45 [00:02<00:00, 21.42it/s]\n"
     ]
    },
    {
     "name": "stdout",
     "output_type": "stream",
     "text": [
      "Ens: 45 , start date: 2019-11-06 23:00:39 , end date: 2020-01-02 12:22:49\n"
     ]
    },
    {
     "name": "stderr",
     "output_type": "stream",
     "text": [
      "Looping over indicator pairs...: 100%|█████████████████████████████████████████████████| 45/45 [00:01<00:00, 37.94it/s]\n"
     ]
    },
    {
     "name": "stdout",
     "output_type": "stream",
     "text": [
      "Ens: 46 , start date: 2020-02-05 16:45:04 , end date: 2020-07-31 05:11:54\n"
     ]
    },
    {
     "name": "stderr",
     "output_type": "stream",
     "text": [
      "Looping over indicator pairs...: 100%|█████████████████████████████████████████████████| 45/45 [00:01<00:00, 22.54it/s]\n"
     ]
    },
    {
     "name": "stdout",
     "output_type": "stream",
     "text": [
      "Ens: 47 , start date: 2019-09-29 16:13:54 , end date: 2020-02-28 06:05:20\n"
     ]
    },
    {
     "name": "stderr",
     "output_type": "stream",
     "text": [
      "Looping over indicator pairs...: 100%|█████████████████████████████████████████████████| 45/45 [00:01<00:00, 23.72it/s]\n"
     ]
    },
    {
     "name": "stdout",
     "output_type": "stream",
     "text": [
      "Ens: 48 , start date: 2019-10-25 22:41:40 , end date: 2020-04-19 02:08:33\n"
     ]
    },
    {
     "name": "stderr",
     "output_type": "stream",
     "text": [
      "Looping over indicator pairs...: 100%|█████████████████████████████████████████████████| 45/45 [00:02<00:00, 20.70it/s]\n"
     ]
    },
    {
     "name": "stdout",
     "output_type": "stream",
     "text": [
      "Ens: 49 , start date: 2020-01-24 00:18:02 , end date: 2020-11-23 17:05:28\n"
     ]
    },
    {
     "name": "stderr",
     "output_type": "stream",
     "text": [
      "Looping over indicator pairs...: 100%|█████████████████████████████████████████████████| 45/45 [00:03<00:00, 13.60it/s]\n"
     ]
    },
    {
     "name": "stdout",
     "output_type": "stream",
     "text": [
      "Ens: 50 , start date: 2020-01-06 18:11:38 , end date: 2020-02-01 03:56:17\n"
     ]
    },
    {
     "name": "stderr",
     "output_type": "stream",
     "text": [
      "Looping over indicator pairs...: 100%|█████████████████████████████████████████████████| 45/45 [00:00<00:00, 66.45it/s]\n"
     ]
    },
    {
     "name": "stdout",
     "output_type": "stream",
     "text": [
      "Ens: 51 , start date: 2020-02-16 02:24:29 , end date: 2020-08-26 06:32:52\n"
     ]
    },
    {
     "name": "stderr",
     "output_type": "stream",
     "text": [
      "Looping over indicator pairs...: 100%|█████████████████████████████████████████████████| 45/45 [00:02<00:00, 21.34it/s]\n"
     ]
    },
    {
     "name": "stdout",
     "output_type": "stream",
     "text": [
      "Ens: 52 , start date: 2019-08-02 15:28:58 , end date: 2020-03-25 06:55:25\n"
     ]
    },
    {
     "name": "stderr",
     "output_type": "stream",
     "text": [
      "Looping over indicator pairs...: 100%|█████████████████████████████████████████████████| 45/45 [00:02<00:00, 15.68it/s]\n"
     ]
    },
    {
     "name": "stdout",
     "output_type": "stream",
     "text": [
      "Ens: 53 , start date: 2019-07-26 05:57:20 , end date: 2020-05-21 21:59:00\n"
     ]
    },
    {
     "name": "stderr",
     "output_type": "stream",
     "text": [
      "Looping over indicator pairs...: 100%|█████████████████████████████████████████████████| 45/45 [00:03<00:00, 12.55it/s]\n"
     ]
    },
    {
     "name": "stdout",
     "output_type": "stream",
     "text": [
      "Ens: 54 , start date: 2019-10-13 13:34:01 , end date: 2020-11-12 07:45:13\n"
     ]
    },
    {
     "name": "stderr",
     "output_type": "stream",
     "text": [
      "Looping over indicator pairs...: 100%|█████████████████████████████████████████████████| 45/45 [00:04<00:00,  9.72it/s]\n"
     ]
    },
    {
     "name": "stdout",
     "output_type": "stream",
     "text": [
      "Ens: 55 , start date: 2019-08-18 22:36:23 , end date: 2019-10-11 22:09:31\n"
     ]
    },
    {
     "name": "stderr",
     "output_type": "stream",
     "text": [
      "Looping over indicator pairs...: 100%|█████████████████████████████████████████████████| 45/45 [00:00<00:00, 48.05it/s]\n"
     ]
    },
    {
     "name": "stdout",
     "output_type": "stream",
     "text": [
      "Ens: 56 , start date: 2020-10-08 04:52:43 , end date: 2020-12-04 02:33:05\n"
     ]
    },
    {
     "name": "stderr",
     "output_type": "stream",
     "text": [
      "Looping over indicator pairs...: 100%|█████████████████████████████████████████████████| 45/45 [00:00<00:00, 51.92it/s]\n"
     ]
    },
    {
     "name": "stdout",
     "output_type": "stream",
     "text": [
      "Ens: 57 , start date: 2020-02-25 21:08:12 , end date: 2020-07-08 23:54:45\n"
     ]
    },
    {
     "name": "stderr",
     "output_type": "stream",
     "text": [
      "Looping over indicator pairs...: 100%|█████████████████████████████████████████████████| 45/45 [00:01<00:00, 28.74it/s]\n"
     ]
    },
    {
     "name": "stdout",
     "output_type": "stream",
     "text": [
      "Ens: 58 , start date: 2020-01-02 19:20:10 , end date: 2020-02-08 03:40:52\n"
     ]
    },
    {
     "name": "stderr",
     "output_type": "stream",
     "text": [
      "Looping over indicator pairs...: 100%|█████████████████████████████████████████████████| 45/45 [00:00<00:00, 61.30it/s]\n"
     ]
    },
    {
     "name": "stdout",
     "output_type": "stream",
     "text": [
      "Ens: 59 , start date: 2020-05-28 20:42:24 , end date: 2020-11-10 23:51:10\n"
     ]
    },
    {
     "name": "stderr",
     "output_type": "stream",
     "text": [
      "Looping over indicator pairs...: 100%|█████████████████████████████████████████████████| 45/45 [00:01<00:00, 23.49it/s]\n"
     ]
    },
    {
     "name": "stdout",
     "output_type": "stream",
     "text": [
      "Ens: 60 , start date: 2019-08-29 08:11:51 , end date: 2020-08-25 02:40:55\n"
     ]
    },
    {
     "name": "stderr",
     "output_type": "stream",
     "text": [
      "Looping over indicator pairs...: 100%|█████████████████████████████████████████████████| 45/45 [00:04<00:00, 11.17it/s]\n"
     ]
    },
    {
     "name": "stdout",
     "output_type": "stream",
     "text": [
      "Ens: 61 , start date: 2020-03-02 11:42:32 , end date: 2020-06-26 15:17:37\n"
     ]
    },
    {
     "name": "stderr",
     "output_type": "stream",
     "text": [
      "Looping over indicator pairs...: 100%|█████████████████████████████████████████████████| 45/45 [00:01<00:00, 30.79it/s]\n"
     ]
    },
    {
     "name": "stdout",
     "output_type": "stream",
     "text": [
      "Ens: 62 , start date: 2020-01-18 05:50:16 , end date: 2020-12-09 10:48:33\n"
     ]
    },
    {
     "name": "stderr",
     "output_type": "stream",
     "text": [
      "Looping over indicator pairs...: 100%|█████████████████████████████████████████████████| 45/45 [00:03<00:00, 12.04it/s]\n"
     ]
    },
    {
     "name": "stdout",
     "output_type": "stream",
     "text": [
      "Ens: 63 , start date: 2020-05-29 11:27:31 , end date: 2020-09-29 21:12:15\n"
     ]
    },
    {
     "name": "stderr",
     "output_type": "stream",
     "text": [
      "Looping over indicator pairs...: 100%|█████████████████████████████████████████████████| 45/45 [00:01<00:00, 28.56it/s]\n"
     ]
    },
    {
     "name": "stdout",
     "output_type": "stream",
     "text": [
      "Ens: 64 , start date: 2019-12-05 11:54:00 , end date: 2020-10-13 14:50:22\n"
     ]
    },
    {
     "name": "stderr",
     "output_type": "stream",
     "text": [
      "Looping over indicator pairs...: 100%|█████████████████████████████████████████████████| 45/45 [00:03<00:00, 12.72it/s]\n"
     ]
    },
    {
     "name": "stdout",
     "output_type": "stream",
     "text": [
      "Ens: 65 , start date: 2019-11-20 20:23:22 , end date: 2020-04-10 22:28:50\n"
     ]
    },
    {
     "name": "stderr",
     "output_type": "stream",
     "text": [
      "Looping over indicator pairs...: 100%|█████████████████████████████████████████████████| 45/45 [00:01<00:00, 23.23it/s]\n"
     ]
    },
    {
     "name": "stdout",
     "output_type": "stream",
     "text": [
      "Ens: 66 , start date: 2019-10-26 12:07:23 , end date: 2019-12-16 01:16:11\n"
     ]
    },
    {
     "name": "stderr",
     "output_type": "stream",
     "text": [
      "Looping over indicator pairs...: 100%|█████████████████████████████████████████████████| 45/45 [00:01<00:00, 43.42it/s]\n"
     ]
    },
    {
     "name": "stdout",
     "output_type": "stream",
     "text": [
      "Ens: 67 , start date: 2020-03-10 17:53:04 , end date: 2020-11-07 12:34:42\n"
     ]
    },
    {
     "name": "stderr",
     "output_type": "stream",
     "text": [
      "Looping over indicator pairs...: 100%|█████████████████████████████████████████████████| 45/45 [00:02<00:00, 16.52it/s]\n"
     ]
    },
    {
     "name": "stdout",
     "output_type": "stream",
     "text": [
      "Ens: 68 , start date: 2020-03-03 09:31:44 , end date: 2020-10-17 22:49:54\n"
     ]
    },
    {
     "name": "stderr",
     "output_type": "stream",
     "text": [
      "Looping over indicator pairs...: 100%|█████████████████████████████████████████████████| 45/45 [00:02<00:00, 16.96it/s]\n"
     ]
    },
    {
     "name": "stdout",
     "output_type": "stream",
     "text": [
      "Ens: 69 , start date: 2019-11-13 22:51:03 , end date: 2020-11-03 01:53:37\n"
     ]
    },
    {
     "name": "stderr",
     "output_type": "stream",
     "text": [
      "Looping over indicator pairs...: 100%|█████████████████████████████████████████████████| 45/45 [00:04<00:00, 10.57it/s]\n"
     ]
    },
    {
     "name": "stdout",
     "output_type": "stream",
     "text": [
      "Ens: 70 , start date: 2020-01-22 20:57:27 , end date: 2020-04-07 13:05:48\n"
     ]
    },
    {
     "name": "stderr",
     "output_type": "stream",
     "text": [
      "Looping over indicator pairs...: 100%|█████████████████████████████████████████████████| 45/45 [00:01<00:00, 39.81it/s]\n"
     ]
    },
    {
     "name": "stdout",
     "output_type": "stream",
     "text": [
      "Ens: 71 , start date: 2020-08-13 05:36:06 , end date: 2020-10-26 16:15:45\n"
     ]
    },
    {
     "name": "stderr",
     "output_type": "stream",
     "text": [
      "Looping over indicator pairs...: 100%|█████████████████████████████████████████████████| 45/45 [00:01<00:00, 39.16it/s]\n"
     ]
    },
    {
     "name": "stdout",
     "output_type": "stream",
     "text": [
      "Ens: 72 , start date: 2019-08-16 08:10:15 , end date: 2019-09-03 02:42:53\n"
     ]
    },
    {
     "name": "stderr",
     "output_type": "stream",
     "text": [
      "Looping over indicator pairs...: 100%|█████████████████████████████████████████████████| 45/45 [00:00<00:00, 68.36it/s]\n"
     ]
    },
    {
     "name": "stdout",
     "output_type": "stream",
     "text": [
      "Ens: 73 , start date: 2019-10-04 07:58:21 , end date: 2020-03-12 22:53:45\n"
     ]
    },
    {
     "name": "stderr",
     "output_type": "stream",
     "text": [
      "Looping over indicator pairs...: 100%|█████████████████████████████████████████████████| 45/45 [00:02<00:00, 22.11it/s]\n"
     ]
    },
    {
     "name": "stdout",
     "output_type": "stream",
     "text": [
      "Ens: 74 , start date: 2020-02-19 06:49:21 , end date: 2020-09-05 20:53:11\n"
     ]
    },
    {
     "name": "stderr",
     "output_type": "stream",
     "text": [
      "Looping over indicator pairs...: 100%|█████████████████████████████████████████████████| 45/45 [00:02<00:00, 19.18it/s]\n"
     ]
    },
    {
     "name": "stdout",
     "output_type": "stream",
     "text": [
      "Ens: 75 , start date: 2019-12-20 10:33:17 , end date: 2020-08-18 14:10:14\n"
     ]
    },
    {
     "name": "stderr",
     "output_type": "stream",
     "text": [
      "Looping over indicator pairs...: 100%|█████████████████████████████████████████████████| 45/45 [00:02<00:00, 17.77it/s]\n"
     ]
    },
    {
     "name": "stdout",
     "output_type": "stream",
     "text": [
      "Ens: 76 , start date: 2019-12-20 03:52:16 , end date: 2020-03-18 08:26:43\n"
     ]
    },
    {
     "name": "stderr",
     "output_type": "stream",
     "text": [
      "Looping over indicator pairs...: 100%|█████████████████████████████████████████████████| 45/45 [00:01<00:00, 35.80it/s]\n"
     ]
    },
    {
     "name": "stdout",
     "output_type": "stream",
     "text": [
      "Ens: 77 , start date: 2020-03-26 22:13:57 , end date: 2020-09-12 21:47:22\n"
     ]
    },
    {
     "name": "stderr",
     "output_type": "stream",
     "text": [
      "Looping over indicator pairs...: 100%|█████████████████████████████████████████████████| 45/45 [00:01<00:00, 24.41it/s]\n"
     ]
    },
    {
     "name": "stdout",
     "output_type": "stream",
     "text": [
      "Ens: 78 , start date: 2019-07-05 08:22:16 , end date: 2020-03-27 15:12:50\n"
     ]
    },
    {
     "name": "stderr",
     "output_type": "stream",
     "text": [
      "Looping over indicator pairs...: 100%|█████████████████████████████████████████████████| 45/45 [00:03<00:00, 12.43it/s]\n"
     ]
    },
    {
     "name": "stdout",
     "output_type": "stream",
     "text": [
      "Ens: 79 , start date: 2019-10-05 12:00:45 , end date: 2020-03-05 10:09:02\n"
     ]
    },
    {
     "name": "stderr",
     "output_type": "stream",
     "text": [
      "Looping over indicator pairs...: 100%|█████████████████████████████████████████████████| 45/45 [00:02<00:00, 20.91it/s]\n"
     ]
    },
    {
     "name": "stdout",
     "output_type": "stream",
     "text": [
      "Ens: 80 , start date: 2020-04-10 05:11:57 , end date: 2020-04-26 14:16:07\n"
     ]
    },
    {
     "name": "stderr",
     "output_type": "stream",
     "text": [
      "Looping over indicator pairs...: 100%|█████████████████████████████████████████████████| 45/45 [00:00<00:00, 63.41it/s]\n"
     ]
    },
    {
     "name": "stdout",
     "output_type": "stream",
     "text": [
      "Ens: 81 , start date: 2020-01-13 13:16:38 , end date: 2020-11-03 03:59:08\n"
     ]
    },
    {
     "name": "stderr",
     "output_type": "stream",
     "text": [
      "Looping over indicator pairs...: 100%|█████████████████████████████████████████████████| 45/45 [00:03<00:00, 12.94it/s]\n"
     ]
    },
    {
     "name": "stdout",
     "output_type": "stream",
     "text": [
      "Ens: 82 , start date: 2019-08-27 14:48:40 , end date: 2020-08-06 02:28:29\n"
     ]
    },
    {
     "name": "stderr",
     "output_type": "stream",
     "text": [
      "Looping over indicator pairs...: 100%|█████████████████████████████████████████████████| 45/45 [00:04<00:00, 11.19it/s]\n"
     ]
    },
    {
     "name": "stdout",
     "output_type": "stream",
     "text": [
      "Ens: 83 , start date: 2019-08-26 12:23:54 , end date: 2020-08-08 11:02:17\n"
     ]
    },
    {
     "name": "stderr",
     "output_type": "stream",
     "text": [
      "Looping over indicator pairs...: 100%|█████████████████████████████████████████████████| 45/45 [00:04<00:00, 10.20it/s]\n"
     ]
    },
    {
     "name": "stdout",
     "output_type": "stream",
     "text": [
      "Ens: 84 , start date: 2019-12-27 08:13:40 , end date: 2020-03-13 06:35:23\n"
     ]
    },
    {
     "name": "stderr",
     "output_type": "stream",
     "text": [
      "Looping over indicator pairs...: 100%|█████████████████████████████████████████████████| 45/45 [00:01<00:00, 38.59it/s]\n"
     ]
    },
    {
     "name": "stdout",
     "output_type": "stream",
     "text": [
      "Ens: 85 , start date: 2020-03-13 05:55:53 , end date: 2020-06-25 14:04:21\n"
     ]
    },
    {
     "name": "stderr",
     "output_type": "stream",
     "text": [
      "Looping over indicator pairs...: 100%|█████████████████████████████████████████████████| 45/45 [00:01<00:00, 35.28it/s]\n"
     ]
    },
    {
     "name": "stdout",
     "output_type": "stream",
     "text": [
      "Ens: 86 , start date: 2019-10-29 06:22:21 , end date: 2020-04-30 07:09:04\n"
     ]
    },
    {
     "name": "stderr",
     "output_type": "stream",
     "text": [
      "Looping over indicator pairs...: 100%|█████████████████████████████████████████████████| 45/45 [00:02<00:00, 19.32it/s]\n"
     ]
    },
    {
     "name": "stdout",
     "output_type": "stream",
     "text": [
      "Ens: 87 , start date: 2019-12-07 06:46:10 , end date: 2020-04-12 17:07:31\n"
     ]
    },
    {
     "name": "stderr",
     "output_type": "stream",
     "text": [
      "Looping over indicator pairs...: 100%|█████████████████████████████████████████████████| 45/45 [00:01<00:00, 26.03it/s]\n"
     ]
    },
    {
     "name": "stdout",
     "output_type": "stream",
     "text": [
      "Ens: 88 , start date: 2019-12-27 01:48:17 , end date: 2020-09-23 18:25:19\n"
     ]
    },
    {
     "name": "stderr",
     "output_type": "stream",
     "text": [
      "Looping over indicator pairs...: 100%|█████████████████████████████████████████████████| 45/45 [00:03<00:00, 14.63it/s]\n"
     ]
    },
    {
     "name": "stdout",
     "output_type": "stream",
     "text": [
      "Ens: 89 , start date: 2019-12-29 22:57:58 , end date: 2020-06-29 02:22:14\n"
     ]
    },
    {
     "name": "stderr",
     "output_type": "stream",
     "text": [
      "Looping over indicator pairs...: 100%|█████████████████████████████████████████████████| 45/45 [00:02<00:00, 21.21it/s]\n"
     ]
    },
    {
     "name": "stdout",
     "output_type": "stream",
     "text": [
      "Ens: 90 , start date: 2019-09-13 11:16:39 , end date: 2020-01-08 15:49:05\n"
     ]
    },
    {
     "name": "stderr",
     "output_type": "stream",
     "text": [
      "Looping over indicator pairs...: 100%|█████████████████████████████████████████████████| 45/45 [00:01<00:00, 28.81it/s]\n"
     ]
    },
    {
     "name": "stdout",
     "output_type": "stream",
     "text": [
      "Ens: 91 , start date: 2020-05-08 23:15:07 , end date: 2020-11-06 04:46:50\n"
     ]
    },
    {
     "name": "stderr",
     "output_type": "stream",
     "text": [
      "Looping over indicator pairs...: 100%|█████████████████████████████████████████████████| 45/45 [00:02<00:00, 21.70it/s]\n"
     ]
    },
    {
     "name": "stdout",
     "output_type": "stream",
     "text": [
      "Ens: 92 , start date: 2019-12-14 07:36:37 , end date: 2020-05-01 16:09:51\n"
     ]
    },
    {
     "name": "stderr",
     "output_type": "stream",
     "text": [
      "Looping over indicator pairs...: 100%|█████████████████████████████████████████████████| 45/45 [00:01<00:00, 25.39it/s]\n"
     ]
    },
    {
     "name": "stdout",
     "output_type": "stream",
     "text": [
      "Ens: 93 , start date: 2020-07-09 13:29:58 , end date: 2020-10-01 16:20:06\n"
     ]
    },
    {
     "name": "stderr",
     "output_type": "stream",
     "text": [
      "Looping over indicator pairs...: 100%|█████████████████████████████████████████████████| 45/45 [00:01<00:00, 35.69it/s]\n"
     ]
    },
    {
     "name": "stdout",
     "output_type": "stream",
     "text": [
      "Ens: 94 , start date: 2020-06-07 00:17:57 , end date: 2020-06-28 03:21:48\n"
     ]
    },
    {
     "name": "stderr",
     "output_type": "stream",
     "text": [
      "Looping over indicator pairs...: 100%|█████████████████████████████████████████████████| 45/45 [00:00<00:00, 62.14it/s]\n"
     ]
    },
    {
     "name": "stdout",
     "output_type": "stream",
     "text": [
      "Ens: 95 , start date: 2020-02-19 20:49:41 , end date: 2020-09-22 00:55:54\n"
     ]
    },
    {
     "name": "stderr",
     "output_type": "stream",
     "text": [
      "Looping over indicator pairs...: 100%|█████████████████████████████████████████████████| 45/45 [00:02<00:00, 18.39it/s]\n"
     ]
    },
    {
     "name": "stdout",
     "output_type": "stream",
     "text": [
      "Ens: 96 , start date: 2019-09-30 12:41:42 , end date: 2020-12-10 07:46:15\n"
     ]
    },
    {
     "name": "stderr",
     "output_type": "stream",
     "text": [
      "Looping over indicator pairs...: 100%|█████████████████████████████████████████████████| 45/45 [00:05<00:00,  8.57it/s]\n"
     ]
    },
    {
     "name": "stdout",
     "output_type": "stream",
     "text": [
      "Ens: 97 , start date: 2020-01-04 17:43:40 , end date: 2020-11-24 03:24:06\n"
     ]
    },
    {
     "name": "stderr",
     "output_type": "stream",
     "text": [
      "Looping over indicator pairs...: 100%|█████████████████████████████████████████████████| 45/45 [00:03<00:00, 11.50it/s]\n"
     ]
    },
    {
     "name": "stdout",
     "output_type": "stream",
     "text": [
      "Ens: 98 , start date: 2019-11-29 14:54:27 , end date: 2020-02-06 12:30:37\n"
     ]
    },
    {
     "name": "stderr",
     "output_type": "stream",
     "text": [
      "Looping over indicator pairs...: 100%|█████████████████████████████████████████████████| 45/45 [00:01<00:00, 38.00it/s]\n"
     ]
    },
    {
     "name": "stdout",
     "output_type": "stream",
     "text": [
      "Ens: 99 , start date: 2020-03-28 01:24:37 , end date: 2020-10-31 08:54:28\n"
     ]
    },
    {
     "name": "stderr",
     "output_type": "stream",
     "text": [
      "Looping over indicator pairs...: 100%|█████████████████████████████████████████████████| 45/45 [00:02<00:00, 18.58it/s]\n"
     ]
    },
    {
     "name": "stdout",
     "output_type": "stream",
     "text": [
      "Ens: 100 , start date: 2020-02-10 06:16:27 , end date: 2020-04-15 09:08:15\n"
     ]
    },
    {
     "name": "stderr",
     "output_type": "stream",
     "text": [
      "Looping over indicator pairs...: 100%|█████████████████████████████████████████████████| 45/45 [00:01<00:00, 42.49it/s]\n"
     ]
    }
   ],
   "source": [
    "df_results = pd.DataFrame()\n",
    "\n",
    "if ind_candle == 'close':\n",
    "    df_data_raw = pd.read_csv('data/' + exchange + '_' + trading_pair + '.csv', \n",
    "                              index_col='time', \n",
    "                              usecols=['time', 'close'])\n",
    "else:\n",
    "    df_data_raw = pd.read_csv('data/' + exchange + '_' + trading_pair + '.csv', \n",
    "                              index_col='time', \n",
    "                              usecols=['time', 'close', ind_candle])\n",
    "\n",
    "df_data_raw.index = pd.to_datetime(df_data_raw.index)\n",
    "df_data_raw = df_data_raw.resample('1Min').interpolate()\n",
    "\n",
    "if ind_candle == 'close':\n",
    "    resample_logic = {'close': 'last'}\n",
    "elif ind_candle == 'high':\n",
    "    resample_logic = {'close': 'last', 'high': 'max'}\n",
    "elif ind_candle == 'low':\n",
    "    resample_logic = {'close': 'last', 'low': 'min'}\n",
    "elif ind_candle == 'open':\n",
    "    resample_logic = {'close': 'last', 'open': 'first'}\n",
    "    \n",
    "sampling_interval = str(timeframe) + 'Min'\n",
    "df_data_raw = df_data_raw.resample(sampling_interval).apply(resample_logic)\n",
    "\n",
    "df_data_raw[indicator] = getattr(ta, indicator)(df_data_raw[f'{ind_candle}'], ind_timeperiod)  # work with indicator using only one candle input\n",
    "df_data_raw.dropna(inplace=True)\n",
    "\n",
    "ind_buy_list = np.arange(ind_buy_min, ind_buy_max, ind_step_size)\n",
    "ind_sell_list = np.arange(ind_sell_min, ind_sell_max, ind_step_size)\n",
    "\n",
    "idx_ens = 0\n",
    "\n",
    "while idx_ens < n_ensemble:\n",
    "    \n",
    "    try:\n",
    "\n",
    "        # identical iterator created each time to avoid rewinding it (not sure how the rewinding can be done)\n",
    "        ind_pair_iterator = itertools.product(ind_buy_list, ind_sell_list)\n",
    "    \n",
    "        if run_pseudo_experiment:\n",
    "            # draw random start datetime\n",
    "            \n",
    "            if datetime_scan == 'more_recent':\n",
    "                ens_start_date = trade_start_datetime + \\\n",
    "                                    timedelta(days=randrange(0, int(nday_trade-minimum_nday_trade), 1)) + \\\n",
    "                                    timedelta(hours=randrange(-12, 12, 1)) + \\\n",
    "                                    timedelta(minutes=randrange(-30, 30, 1)) + \\\n",
    "                                    timedelta(seconds=randrange(-30, 30, 1))\n",
    "\n",
    "                ndays_to_end = trade_end_datetime-ens_start_date\n",
    "                ndays_to_end = ndays_to_end.days + ndays_to_end.seconds/3600/24\n",
    "                \n",
    "                if ndays_to_end <= minimum_nday_trade:\n",
    "                    continue\n",
    "                    \n",
    "                ens_end_date = ens_start_date + timedelta(days=randrange(minimum_nday_trade, int(ndays_to_end), 1)) + \\\n",
    "                                    timedelta(hours=randrange(-12, 12, 1)) + \\\n",
    "                                    timedelta(minutes=randrange(-30, 30, 1)) + \\\n",
    "                                    timedelta(seconds=randrange(-30, 30, 1))   \n",
    "            \n",
    "            elif datetime_scan == 'uniform': \n",
    "                ens_start_date = trade_start_datetime + \\\n",
    "                                    timedelta(days=randrange(0, int(nday_trade), 1)) + \\\n",
    "                                    timedelta(hours=randrange(-12, 12, 1)) + \\\n",
    "                                    timedelta(minutes=randrange(-30, 30, 1)) + \\\n",
    "                                    timedelta(seconds=randrange(-30, 30, 1))\n",
    "\n",
    "                ens_end_date = trade_start_datetime + \\\n",
    "                                    timedelta(days=randrange(0, int(nday_trade), 1)) + \\\n",
    "                                    timedelta(hours=randrange(-12, 12, 1)) + \\\n",
    "                                    timedelta(minutes=randrange(-30, 30, 1)) + \\\n",
    "                                    timedelta(seconds=randrange(-30, 30, 1))   \n",
    "            \n",
    "            \n",
    "                ens_nday = ens_end_date - ens_start_date\n",
    "                ens_nday = ens_nday.days + ens_nday.seconds/3600/24\n",
    "\n",
    "                if ens_nday < minimum_nday_trade:\n",
    "                    continue\n",
    "                      \n",
    "        else:\n",
    "            ens_start_date = trade_start_datetime\n",
    "            ens_end_date = trade_end_datetime \n",
    "\n",
    "        ens_nday = ens_end_date - ens_start_date\n",
    "        ens_nday = ens_nday.days + ens_nday.seconds/3600/24            \n",
    "        \n",
    "        idx_ens += 1\n",
    "        print('Ens:', idx_ens, ', start date:', ens_start_date, ', end date:', ens_end_date)     \n",
    "        \n",
    "        time.sleep(0.25)  # to avoid visual glitch between above print-out and tqdm's progress bar\n",
    "\n",
    "        df_data_trade = df_data_raw.copy()\n",
    "        df_data_trade = df_data_trade[df_data_trade.index>ens_start_date-timedelta(days=2)]  # -2 day for meaningful indicator\n",
    "        df_data_trade = df_data_trade[df_data_trade.index<ens_end_date]\n",
    "\n",
    "        df_trade = trade(df_data_trade, \n",
    "                         ens_start_date,\n",
    "                         ens_end_date,\n",
    "                         ind_pair_iterator,\n",
    "                         ens_nday)\n",
    "        \n",
    "        # if output CSV file does not exist -> create it with header row\n",
    "        if os.path.isfile('backtesting_output/' + csv_output_name):\n",
    "            df_trade.to_csv('backtesting_output/' + csv_output_name, mode='a', index=False, header=False)\n",
    "        # if output CSV file exists -> append results without header row\n",
    "        # NB: if the CSV file exist without header row, it will not be added, header row is written only when file is created\n",
    "        else:\n",
    "            df_trade.to_csv('backtesting_output/'  + csv_output_name, mode='w', index=False)\n",
    "            \n",
    "    except Exception as exc:\n",
    "        print(exc)\n",
    "        continue"
   ]
  },
  {
   "cell_type": "code",
   "execution_count": null,
   "metadata": {},
   "outputs": [],
   "source": []
  }
 ],
 "metadata": {
  "kernelspec": {
   "display_name": "Python 3",
   "language": "python",
   "name": "python3"
  },
  "language_info": {
   "codemirror_mode": {
    "name": "ipython",
    "version": 3
   },
   "file_extension": ".py",
   "mimetype": "text/x-python",
   "name": "python",
   "nbconvert_exporter": "python",
   "pygments_lexer": "ipython3",
   "version": "3.7.7"
  }
 },
 "nbformat": 4,
 "nbformat_minor": 4
}
