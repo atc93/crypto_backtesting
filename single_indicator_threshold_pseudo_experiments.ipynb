{
 "cells": [
  {
   "cell_type": "markdown",
   "metadata": {},
   "source": [
    "# SINGLE INDICATOR THRESHOLD BACKTESTING PSEUDO-EXPERIMENTS"
   ]
  },
  {
   "cell_type": "markdown",
   "metadata": {},
   "source": [
    "## code performs backtesting using a single indicator with a threshold crossing strategy:\n",
    "\n",
    "* if indicator crosses under buy_threshold -> buy\n",
    "* if indicator crosses over sell_threshold -> sell\n",
    "\n",
    "All the money available is used for each and every trade starting with $100: money from first trade in full is injected into second trade etc...\n",
    "\n",
    "This iteration of the code does not allow to loop over different currencies, or indicators, or timeframes, or indicator timeperiods. Pseudo-experiments are cpu time consumming by nature, therefore focusing on one configuration at a time is recommended.\n",
    "\n",
    "Data is obtained from Coinbase Pro via their API and a Python wrapper module.\n",
    "\n",
    "There should be data avaible prior to trade start datetime in order for the first trade data point to have meaningful indicator calculation (since indicator requires past data). This is why the code here and there does 2 days shifts."
   ]
  },
  {
   "cell_type": "markdown",
   "metadata": {},
   "source": [
    "## Various module imports (extra modules required: numpy, pandas, talib, tqdm)"
   ]
  },
  {
   "cell_type": "code",
   "execution_count": 1,
   "metadata": {},
   "outputs": [],
   "source": [
    "import itertools\n",
    "import os\n",
    "import time\n",
    "from datetime import datetime, timedelta\n",
    "from random import randrange\n",
    "\n",
    "import numpy as np\n",
    "import pandas as pd\n",
    "import talib as ta\n",
    "from tqdm import tqdm\n",
    "\n",
    "from coinbase_market import CryptoMarket\n",
    "\n",
    "pd.set_option('display.max_columns', 5000)\n",
    "pd.set_option('display.max_rows', 5000)\n",
    "pd.set_option('display.width', 10000)"
   ]
  },
  {
   "cell_type": "markdown",
   "metadata": {},
   "source": [
    "## Moving to whichever directory containing the data and output folders: 'data/', 'backtesting_output/'"
   ]
  },
  {
   "cell_type": "code",
   "execution_count": 2,
   "metadata": {},
   "outputs": [
    {
     "name": "stdout",
     "output_type": "stream",
     "text": [
      "D:\\crypto\n"
     ]
    }
   ],
   "source": [
    "cd D:\\crypto\\"
   ]
  },
  {
   "cell_type": "code",
   "execution_count": 3,
   "metadata": {},
   "outputs": [
    {
     "data": {
      "text/plain": [
       "['backtesting_output', 'data', 'metamask', 'theta']"
      ]
     },
     "execution_count": 3,
     "metadata": {},
     "output_type": "execute_result"
    }
   ],
   "source": [
    "os.listdir('.')"
   ]
  },
  {
   "cell_type": "markdown",
   "metadata": {},
   "source": [
    "## Various backtesting configurations"
   ]
  },
  {
   "cell_type": "code",
   "execution_count": 4,
   "metadata": {},
   "outputs": [],
   "source": [
    "currency = 'link'  # see https://www.coingecko.com/en for currency symbol\n",
    "buy_fee = 0.1  # in percent\n",
    "sell_fee = 0.1  # in percent\n",
    "initial_cash = 100\n",
    "\n",
    "verbose = 0  # print-out verbosity: 0, 1, 2, 3\n",
    "\n",
    "timeframe = 5  # timeframe in minute of one candle\n",
    "\n",
    "indicator = 'RSI'  # see TA-lib documentation: https://mrjbq7.github.io/ta-lib/\n",
    "ind_timeperiod = 50  # number of periods used to compute the indicator\n",
    "ind_buy_min = 30  # scan lower buy limit\n",
    "ind_buy_max = 40  # scan upper buy limit\n",
    "ind_sell_min = 35  # scan lower sell limit\n",
    "ind_sell_max = 55  # scan upper buy limit\n",
    "ind_step_size = 0.5  # scan step size commong to both buy/sell \n",
    "n_ensemble = 10  # number of pseudo-experiments to run\n",
    "\n",
    "minimum_nday_trade = 15  # minimum number of days to trade\n",
    "\n",
    "data_first_datetime = datetime(2019, 7, 1, 0, 0, 0)  #  as far back as possible on Coinbase Pro\n",
    "\n",
    "run_pseudo_experiment = True  # if False, use all the data minus first 2 days, not a random subet\n",
    "\n",
    "trade_start_datetime = data_first_datetime + timedelta(days=2)  # by default start with earliest available data with 2 days shift\n",
    "trade_end_datetime = datetime.utcnow()  # UTC-0 (Iceland) is the time zone of the data\n",
    "\n",
    "nday_trade = trade_end_datetime-trade_start_datetime\n",
    "nday_trade = nday_trade.days + nday_trade.seconds/3600/24"
   ]
  },
  {
   "cell_type": "markdown",
   "metadata": {},
   "source": [
    "# Fetch market data"
   ]
  },
  {
   "cell_type": "code",
   "execution_count": 5,
   "metadata": {
    "scrolled": true
   },
   "outputs": [
    {
     "name": "stdout",
     "output_type": "stream",
     "text": [
      "File already exists. Fetching 0 day(s) 3 minute(s) of missing data since last download\n",
      "2020-11-05 23:24:00 2020-11-05 23:28:00\n"
     ]
    }
   ],
   "source": [
    "def fetch_data(curr, start_date):\n",
    "\n",
    "    currency_exchange = ''\n",
    "\n",
    "    if curr == 'bat' or curr == 'zec':\n",
    "        currency_exchange = f'{curr.upper()}-USDC'\n",
    "    else:\n",
    "        currency_exchange = f'{curr.upper()}-USD'\n",
    "        \n",
    "    market_history = CryptoMarket(currency_exchange)\n",
    "    market_history.get_currency_candle_history(start_date, 'now')\n",
    "    \n",
    "fetch_data(currency, data_first_datetime)    "
   ]
  },
  {
   "cell_type": "markdown",
   "metadata": {},
   "source": [
    "# Trading function"
   ]
  },
  {
   "cell_type": "code",
   "execution_count": 6,
   "metadata": {
    "scrolled": true
   },
   "outputs": [],
   "source": [
    "def trade(df, start_date, stop_date, ind_pair_iterator, n_day):\n",
    "\n",
    "        df_tmp = pd.DataFrame()\n",
    "        \n",
    "        for ind_pair in tqdm (list(ind_pair_iterator), desc=\"Looping over indicator pairs...\"): \n",
    "                        \n",
    "            cash = initial_cash\n",
    "                \n",
    "            ind_buy_th = ind_pair[0]\n",
    "            ind_sell_th = ind_pair[1]\n",
    "                        \n",
    "            def trigger(df_copy, indicator):\n",
    "                df_copy['trigger'] = np.empty(len(df)) * 0\n",
    "                df_copy.loc[\n",
    "                    (\n",
    "                        (df_copy[f'{indicator}'] < ind_buy_th) \n",
    "                        & (df_copy.index > start_date)\n",
    "                    ),\n",
    "                    'trigger'] = 1  \n",
    "                    \n",
    "                df_copy.loc[\n",
    "                    (\n",
    "                        (df_copy[f'{indicator}'] > ind_sell_th) \n",
    "                    ),\n",
    "                    'trigger'] = -1  \n",
    "\n",
    "                df_copy = df_copy.loc[df_copy['trigger'] != 0]\n",
    "\n",
    "                df_copy = df_copy.loc[df_copy['trigger'].shift() != df_copy['trigger']]\n",
    "                 \n",
    "                return df_copy\n",
    "            \n",
    "            df_copy = trigger(df.copy(), indicator)\n",
    "            df_copy.dropna(inplace=True) \n",
    "           \n",
    "            if verbose > 2:\n",
    "                print(df_copy.head(10))            \n",
    "            \n",
    "            coin = 0            \n",
    "            cash_list = []\n",
    "            profit_list = []\n",
    "            max_price_drop = []\n",
    "            delta_t = []\n",
    "            buy_price = 0\n",
    "            tot_volume = 0\n",
    "            n_trans = 0\n",
    "            left_unsold = 0\n",
    "            sell_date = datetime(2000, 1, 1, 0, 0, 0)\n",
    "\n",
    "            bought = False\n",
    "            sold = False    \n",
    "                        \n",
    "            for idx, row in df_copy.iterrows():\n",
    "\n",
    "                if row['trigger'] == 1 and not bought and not sold:\n",
    "                    buy_price = row['close']\n",
    "                    buy_date = idx\n",
    "                    coin = (1-buy_fee/100)*cash/buy_price\n",
    "                    tot_volume += cash                     \n",
    "                    bought = True\n",
    "                    if verbose > 3 :\n",
    "                        print('cash', round(cash,2), idx, 'buy price', row['close'], 'ind:', row[indicator])\n",
    "                    cash = 0\n",
    "                    continue\n",
    "                elif  bought and not sold and row['trigger'] == -1:                    \n",
    "                    sell_price = row['close']\n",
    "                    cash = sell_price*(1-sell_fee/100)*coin\n",
    "                    tot_volume += cash\n",
    "                    coin = 0\n",
    "                    sold = True\n",
    "                    sell_date = idx\n",
    "                    max_price_drop.append((df.loc[(df.index>buy_date) & (df.index<sell_date)]['close'].min()-buy_price)/buy_price*100)    \n",
    "                    if verbose > 3:\n",
    "                        print('cash', round(cash,2), idx, 'sell price', sell_price, 'ind:', row[indicator])\n",
    "                        \n",
    "                if bought and sold:\n",
    "                    profit_list.append((sell_price-buy_price)/buy_price*100)\n",
    "                    bought = False\n",
    "                    sold = False\n",
    "                    n_trans += 1\n",
    "                    dtime = sell_date-buy_date\n",
    "                    minutes = dtime.seconds/60+dtime.days*(24*60)\n",
    "                    delta_t.append(minutes)\n",
    "                    \n",
    "            if bought and not sold:\n",
    "                n_trans += 1\n",
    "                cash = (1-sell_fee/100)*coin*df['close'].iloc[-1]\n",
    "                dtime = df.index[-1]-buy_date\n",
    "                sell_date = df.index[-1]\n",
    "                minutes = dtime.seconds/60+dtime.days/(24*60)\n",
    "                delta_t.append(minutes)\n",
    "                left_unsold = 1\n",
    "                profit_list.append((df['close'].iloc[-1]-buy_price)/buy_price*100)\n",
    "                if verbose > 3:\n",
    "                    print('unsold', sell_date, 'sell price', df['close'].iloc[-1])                \n",
    "                                     \n",
    "            try:\n",
    "                new_row = {\n",
    "                    'currency': currency, \n",
    "                    'timeframe': timeframe,\n",
    "                    'ind_timeperiod': ind_timeperiod,\n",
    "                    'indicator': indicator,\n",
    "                    'ind_buy':ind_buy_th, \n",
    "                    'ind_sell':ind_sell_th,  \n",
    "                    'ttime_mean': np.mean(np.array(delta_t))/60,  # from minute to hour\n",
    "                    'ttime_max': np.max(np.array(delta_t))/60,  # from minute to hour\n",
    "                    'ttime_min': np.min(np.array(delta_t))/60,  # from minute to hour\n",
    "                    'ttime_std': np.std(np.array(delta_t))/60,  # from minute to hour\n",
    "                    'tot_volume':tot_volume,                    \n",
    "                    'profit_per_day':(cash-initial_cash)/initial_cash*100/n_day,  # in percent per day\n",
    "                    'profit_ind_mean': np.mean(np.array(profit_list)),                                        \n",
    "                    'profit_ind_max': np.max(np.array(profit_list)),                          \n",
    "                    'profit_ind_min': np.min(np.array(profit_list)),\n",
    "                    'profit_ind_std': np.std(np.array(profit_list)),                    \n",
    "                    'cash_final':cash,                            \n",
    "                    'n_trans': n_trans,\n",
    "                    'max_price_drop': np.min(np.array(max_price_drop)),\n",
    "                    'n_trans_per_day': n_trans/n_day,                  \n",
    "                    'start_date': start_date,\n",
    "                    'stop_date': stop_date,\n",
    "                    'n_day': n_day,\n",
    "                    'left_unsold': left_unsold\n",
    "                    \n",
    "                }\n",
    "                if verbose > 1:\n",
    "                    print(profit_list)\n",
    "                df_tmp = df_tmp.append(new_row, ignore_index=True)\n",
    "            except Exception as exc:\n",
    "                if verbose > 0:\n",
    "                    print(\"Exception occured:\", exc.args[0])\n",
    "                continue\n",
    "                           \n",
    "\n",
    "        return df_tmp"
   ]
  },
  {
   "cell_type": "markdown",
   "metadata": {},
   "source": [
    "# Pseudo-experiments loop"
   ]
  },
  {
   "cell_type": "code",
   "execution_count": null,
   "metadata": {
    "scrolled": true
   },
   "outputs": [
    {
     "name": "stderr",
     "output_type": "stream",
     "text": [
      "Looping over indicator pairs...:   1%|▍                                                | 7/800 [00:00<00:11, 68.38it/s]"
     ]
    },
    {
     "name": "stdout",
     "output_type": "stream",
     "text": [
      "Ens: 0 , start date: 2020-08-28 05:55:36 , end date: 2020-09-26 05:55:36\n"
     ]
    },
    {
     "name": "stderr",
     "output_type": "stream",
     "text": [
      "Looping over indicator pairs...: 100%|███████████████████████████████████████████████| 800/800 [00:17<00:00, 46.92it/s]\n",
      "Looping over indicator pairs...:   0%|▏                                                | 4/800 [00:00<00:20, 38.19it/s]"
     ]
    },
    {
     "name": "stdout",
     "output_type": "stream",
     "text": [
      "Ens: 1 , start date: 2020-04-14 23:04:49 , end date: 2020-10-10 23:04:49\n"
     ]
    },
    {
     "name": "stderr",
     "output_type": "stream",
     "text": [
      "Looping over indicator pairs...: 100%|███████████████████████████████████████████████| 800/800 [00:46<00:00, 17.36it/s]\n",
      "Looping over indicator pairs...:   1%|▎                                                | 5/800 [00:00<00:17, 44.75it/s]"
     ]
    },
    {
     "name": "stdout",
     "output_type": "stream",
     "text": [
      "Ens: 2 , start date: 2019-08-20 04:06:59 , end date: 2020-05-01 04:06:59\n"
     ]
    },
    {
     "name": "stderr",
     "output_type": "stream",
     "text": [
      "Looping over indicator pairs...: 100%|███████████████████████████████████████████████| 800/800 [00:58<00:00, 13.75it/s]\n",
      "Looping over indicator pairs...:   1%|▎                                                | 6/800 [00:00<00:14, 53.22it/s]"
     ]
    },
    {
     "name": "stdout",
     "output_type": "stream",
     "text": [
      "Ens: 3 , start date: 2019-10-15 06:13:49 , end date: 2020-04-17 06:13:49\n"
     ]
    },
    {
     "name": "stderr",
     "output_type": "stream",
     "text": [
      "Looping over indicator pairs...:  46%|█████████████████████▊                         | 371/800 [00:10<00:18, 22.83it/s]"
     ]
    }
   ],
   "source": [
    "df_results = pd.DataFrame()\n",
    "\n",
    "df_data_raw = pd.read_csv('data/' + currency + '.csv', index_col='time', usecols=['time', 'close'])\n",
    "df_data_raw.index = pd.to_datetime(df_data_raw.index)\n",
    "\n",
    "df_data_raw = df_data_raw.resample('1Min').interpolate()\n",
    "resample_logic = {'close': 'last'}\n",
    "sampling_interval = str(timeframe) + 'Min'\n",
    "df_data_raw = df_data_raw.resample(sampling_interval).apply(resample_logic)\n",
    "\n",
    "df_data_raw[indicator] = getattr(ta, indicator)(df_data_raw['close'], ind_timeperiod)\n",
    "df_data_raw.dropna(inplace=True)\n",
    "\n",
    "ind_buy_list = np.arange(ind_buy_min, ind_buy_max, ind_step_size)\n",
    "ind_sell_list = np.arange(ind_sell_min, ind_sell_max, ind_step_size)\n",
    "\n",
    "for idx_ens in range(n_ensemble):        \n",
    "\n",
    "        # identical iterator created each time to avoid rewinding it (not sure how the rewinding is done)\n",
    "        ind_pair_iterator = itertools.product(ind_buy_list, ind_sell_list)\n",
    "    \n",
    "        if run_pseudo_experiment:\n",
    "            # draw random start datetime\n",
    "            ens_start_date = trade_start_datetime + \\\n",
    "                                timedelta(days=randrange(0, int(nday_trade-minimum_nday_trade), 1)) + \\\n",
    "                                timedelta(hours=randrange(-12, 12, 1)) + \\\n",
    "                                timedelta(minutes=randrange(-30, 30, 1)) + \\\n",
    "                                timedelta(seconds=randrange(-30, 30, 1))\n",
    "\n",
    "            ndays_to_end = trade_end_datetime-ens_start_date\n",
    "            ndays_to_end = ndays_to_end.days + ndays_to_end.seconds/3600/24\n",
    "            ens_end_date = ens_start_date + timedelta(days=randrange(minimum_nday_trade, int(ndays_to_end), 1))        \n",
    "        else:\n",
    "            ens_start_date = trade_start_datetime\n",
    "            ens_end_date = trade_end_datetime \n",
    "\n",
    "        ens_nday = ens_end_date - ens_start_date\n",
    "        ens_nday = ens_nday.days + ens_nday.seconds/3600/24\n",
    "            \n",
    "        print('Ens:', idx_ens, ', start date:', ens_start_date, ', end date:', ens_end_date)            \n",
    "\n",
    "        df_data_trade = df_data_raw.copy()\n",
    "        df_data_trade = df_data_trade[df_data_trade.index>ens_start_date-timedelta(days=2)]  # -2 day for meaningful indicator\n",
    "        df_data_trade = df_data_trade[df_data_trade.index<ens_end_date]\n",
    "\n",
    "        df_trade = trade(df_data_trade, \n",
    "                         ens_start_date,\n",
    "                         ens_end_date,\n",
    "                         ind_pair_iterator,\n",
    "                         ens_nday)\n",
    "        \n",
    "        if os.path.isfile('backtesting_output/trade_results.csv'):\n",
    "            df_trade.to_csv('backtesting_output/trade_results.csv', mode='a', index=False, header=False)\n",
    "        else:\n",
    "            df_trade.to_csv('backtesting_output/trade_results.csv', mode='w', index=False)"
   ]
  },
  {
   "cell_type": "code",
   "execution_count": null,
   "metadata": {},
   "outputs": [],
   "source": []
  }
 ],
 "metadata": {
  "kernelspec": {
   "display_name": "Python 3",
   "language": "python",
   "name": "python3"
  },
  "language_info": {
   "codemirror_mode": {
    "name": "ipython",
    "version": 3
   },
   "file_extension": ".py",
   "mimetype": "text/x-python",
   "name": "python",
   "nbconvert_exporter": "python",
   "pygments_lexer": "ipython3",
   "version": "3.7.7"
  }
 },
 "nbformat": 4,
 "nbformat_minor": 4
}
